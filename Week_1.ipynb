{
  "nbformat": 4,
  "nbformat_minor": 0,
  "metadata": {
    "colab": {
      "provenance": [],
      "authorship_tag": "ABX9TyNLwTl0nwbCzpQ7Z18yv3Gg",
      "include_colab_link": true
    },
    "kernelspec": {
      "name": "python3",
      "display_name": "Python 3"
    },
    "language_info": {
      "name": "python"
    },
    "gpuClass": "standard"
  },
  "cells": [
    {
      "cell_type": "markdown",
      "metadata": {
        "id": "view-in-github",
        "colab_type": "text"
      },
      "source": [
        "<a href=\"https://colab.research.google.com/github/lakshrav/DSA-Archive/blob/main/Week_1.ipynb\" target=\"_parent\"><img src=\"https://colab.research.google.com/assets/colab-badge.svg\" alt=\"Open In Colab\"/></a>"
      ]
    },
    {
      "cell_type": "markdown",
      "source": [
        "# Model representation\n",
        "https://github.com/greyhatguy007/Machine-Learning-Specialization-Coursera/blob/main/C1%20-%20Supervised%20Machine%20Learning%3A%20Regression%20and%20Classification/week1/Optional%20Labs/C1_W1_Lab03_Model_Representation_Soln.ipynb\n"
      ],
      "metadata": {
        "id": "EFfeSd48_hiB"
      }
    },
    {
      "cell_type": "code",
      "source": [
        "import numpy as np # library for scientific computation\n",
        "import matplotlib.pyplot as plt # library for plotting data"
      ],
      "metadata": {
        "id": "bcBoX6hOwklX"
      },
      "execution_count": 2,
      "outputs": []
    },
    {
      "cell_type": "code",
      "source": [
        "x_train = np.array([1.0, 2.0]) #input size in 1000 sq ft\n",
        "y_train = np.array([300, 500]) # housing price\n",
        "print(\"x_train is \", x_train)\n",
        "print(\"y_train is \", y_train)\n",
        "\n",
        "print(x_train.shape) # ??\n",
        "m = x_train.shape[0] # number of training examples\n",
        "print(\"Number of training examples is\",m) \n",
        "\n",
        "# or len(x_train) -> actually makes more sense !"
      ],
      "metadata": {
        "colab": {
          "base_uri": "https://localhost:8080/"
        },
        "id": "IzZ68p8W_-Bs",
        "outputId": "3297f02d-d553-4ffb-c432-eeaab5607f96"
      },
      "execution_count": 8,
      "outputs": [
        {
          "output_type": "stream",
          "name": "stdout",
          "text": [
            "x_train is  [1. 2.]\n",
            "y_train is  [300 500]\n",
            "(2,)\n",
            "Number of training examples is 2\n"
          ]
        }
      ]
    }
  ]
}